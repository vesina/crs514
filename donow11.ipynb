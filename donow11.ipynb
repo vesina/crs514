{
 "cells": [
  {
   "cell_type": "markdown",
   "metadata": {},
   "source": [
    "## JupyterLab and Jupyter Notebooks"
   ]
  },
  {
   "cell_type": "markdown",
   "metadata": {},
   "source": [
    "A Jupyter Notebook is comprised of cells that can contain code or markup.\n",
    "This cell, for instance contains markup. In the cells that follow experiment with changing the code, etc.\n",
    "\n",
    "To execute a code block you can use the arrow  ![alt text](data/run.png)  on the toolbar or , if you prefer, you can press the keys Shift + Enter"
   ]
  },
  {
   "cell_type": "code",
   "execution_count": null,
   "metadata": {},
   "outputs": [],
   "source": [
    "#Assign the variable x to the value 3 using the statement x=3\n",
    "x=3"
   ]
  },
  {
   "cell_type": "code",
   "execution_count": null,
   "metadata": {},
   "outputs": [],
   "source": [
    "#Print the value of x using the print() function\n",
    "print(x)"
   ]
  },
  {
   "cell_type": "markdown",
   "metadata": {},
   "source": [
    "To create a new empty cell below the currently selected cell you press the plus ![new cell](data/new_cell.png)  icon on the toolbar.\n",
    "\n",
    "Create a new cell below this markup and execute some code in it"
   ]
  },
  {
   "cell_type": "code",
   "execution_count": null,
   "metadata": {},
   "outputs": [],
   "source": [
    "#Change the value of x using a statement like x=x+1 or x=2*x\n",
    "x=2*x"
   ]
  },
  {
   "cell_type": "code",
   "execution_count": null,
   "metadata": {},
   "outputs": [],
   "source": [
    "#print the value of x\n",
    "print(x)"
   ]
  },
  {
   "cell_type": "markdown",
   "metadata": {},
   "source": [
    "The three icons,![cut, copy,paste](data/cut_copy_paste.png)are for cut, copy, and paste respectively."
   ]
  },
  {
   "cell_type": "markdown",
   "metadata": {},
   "source": [
    "The program that runs your code is called a kernel. Each notebook has its own kernel so setting a variable in one notebook does nothing to a similarly named variable in another.\n",
    "\n",
    "If you want to interrupt execution being performed then click the square icon ![interrupt](data/interrupt.png) . On the other hand if you want to totally re-start your kernel use the circular arrow ![re-start](data/re-start.png) . This will be a fresh start and you will have erased the values of all your variables."
   ]
  },
  {
   "cell_type": "code",
   "execution_count": null,
   "metadata": {},
   "outputs": [],
   "source": [
    "#open the file 'data/AirPassengers.csv' in read mode and assign the file opbect to the variable f\n",
    "f=open('data/AirPassengers.csv','r')"
   ]
  },
  {
   "cell_type": "code",
   "execution_count": null,
   "metadata": {},
   "outputs": [],
   "source": [
    "#Use the read() method of f to read the contents of the file\n",
    "contents = f.read()"
   ]
  },
  {
   "cell_type": "code",
   "execution_count": null,
   "metadata": {},
   "outputs": [],
   "source": [
    "#Print the contents of the file\n",
    "print(contents)"
   ]
  },
  {
   "cell_type": "markdown",
   "metadata": {},
   "source": [
    "If you right click on a cell you get a menu with many self explanatory items. One of them, Clear Outputs will clear the output of a cell but will not change the variables in the kernel. This can be useful if the output is large. Clear the output of the previous cell.\n",
    "\n",
    "You can also clear all outputs.\n",
    "\n"
   ]
  },
  {
   "cell_type": "markdown",
   "metadata": {},
   "source": [
    "Closing a tab does not stop the kernel. To save resources you can stop kernels as follows: On the very left vertical toobar is a white square in a black circle  . Clicking it gives you a list of running kernels and you can stop the ones you don't need."
   ]
  },
  {
   "cell_type": "markdown",
   "metadata": {},
   "source": [
    "Explore the interface and discover other features as you use JupyterLab!"
   ]
  }
 ],
 "metadata": {
  "kernelspec": {
   "display_name": "Python 3",
   "language": "python",
   "name": "python3"
  },
  "language_info": {
   "codemirror_mode": {
    "name": "ipython",
    "version": 3
   },
   "file_extension": ".py",
   "mimetype": "text/x-python",
   "name": "python",
   "nbconvert_exporter": "python",
   "pygments_lexer": "ipython3",
   "version": "3.8.3"
  }
 },
 "nbformat": 4,
 "nbformat_minor": 4
}
